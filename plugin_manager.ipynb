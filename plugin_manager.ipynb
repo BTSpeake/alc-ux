{
 "cells": [
  {
   "cell_type": "code",
   "execution_count": null,
   "id": "f843c630",
   "metadata": {
    "vscode": {
     "languageId": "plaintext"
    }
   },
   "outputs": [],
   "source": [
    "%%javascript\n",
    "IPython.OutputArea.prototype._should_scroll = function(lines) {\n",
    "    return false;\n",
    "}\n",
    "document.title=\"AiiDAlab ALC | Plugin Manager\" "
   ]
  },
  {
   "cell_type": "code",
   "execution_count": null,
   "id": "64fe4749",
   "metadata": {
    "vscode": {
     "languageId": "plaintext"
    }
   },
   "outputs": [],
   "source": [
    "%%capture \n",
    "from aiida import load_profile \n",
    "load_profile() "
   ]
  },
  {
   "cell_type": "code",
   "execution_count": null,
   "id": "d78fdb3e",
   "metadata": {
    "vscode": {
     "languageId": "plaintext"
    }
   },
   "outputs": [],
   "source": [
    "from aiidalab_alc.plugins import PluginManager \n",
    "manager = PluginManager() \n"
   ]
  }
 ],
 "metadata": {
  "language_info": {
   "name": "python"
  }
 },
 "nbformat": 4,
 "nbformat_minor": 5
}
